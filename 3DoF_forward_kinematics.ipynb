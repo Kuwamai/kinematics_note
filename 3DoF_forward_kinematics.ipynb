{
 "cells": [
  {
   "cell_type": "code",
   "execution_count": 75,
   "metadata": {},
   "outputs": [],
   "source": [
    "import numpy as np\n",
    "import matplotlib.pyplot as plt"
   ]
  },
  {
   "cell_type": "code",
   "execution_count": 76,
   "metadata": {},
   "outputs": [],
   "source": [
    "def trans_m(a, alpha, d, theta):\n",
    "    m = np.array([[np.cos(theta), -np.sin(theta), 0, a],\n",
    "                  [np.cos(alpha)*np.sin(theta), np.cos(alpha)*np.cos(theta), -np.sin(alpha), -np.sin(alpha)*d],\n",
    "                  [np.sin(alpha)*np.sin(theta), np.sin(alpha)*np.cos(theta),  np.cos(alpha),  np.cos(alpha)*d],\n",
    "                  [0, 0, 0, 1]])\n",
    "    return m"
   ]
  },
  {
   "cell_type": "code",
   "execution_count": 107,
   "metadata": {},
   "outputs": [],
   "source": [
    "def draw(pos):\n",
    "    xs = [e[0] for e in pos]\n",
    "    ys = [e[1] for e in pos]\n",
    "    zs = [e[2] for e in pos]\n",
    "    \n",
    "    fig = plt.figure(figsize=(7,7))\n",
    "    \n",
    "    sp = fig.add_subplot(221,aspect='equal')\n",
    "    sp.set_xlim(-2,2)\n",
    "    sp.set_ylim(-2,2)\n",
    "    plt.plot(xs, ys,\"-\", color=\"skyblue\", lw=5, label=\"link\")\n",
    "    plt.plot(xs, ys,\"o\", color=\"orange\", ms=10, label=\"joint\")\n",
    "    plt.title(\"x-y\")\n",
    "    plt.xlabel(\"x\")\n",
    "    plt.ylabel(\"y\")\n",
    "    plt.grid()\n",
    "    plt.legend(fontsize=10)\n",
    "    \n",
    "    sp = fig.add_subplot(222,aspect='equal')\n",
    "    sp.set_xlim(-2,2)\n",
    "    sp.set_ylim(-2,2)\n",
    "    plt.plot(ys, zs,\"-\", color=\"skyblue\", lw=5, label=\"link\")\n",
    "    plt.plot(ys, zs,\"o\", color=\"orange\", ms=10, label=\"joint\")\n",
    "    plt.title(\"y-z\")\n",
    "    plt.xlabel(\"y\")\n",
    "    plt.ylabel(\"z\")\n",
    "    plt.grid()\n",
    "    plt.legend(fontsize=10)\n",
    "    \n",
    "    sp = fig.add_subplot(223,aspect='equal')\n",
    "    sp.set_xlim(-2,2)\n",
    "    sp.set_ylim(-2,2)\n",
    "    plt.plot(xs, zs,\"-\", color=\"skyblue\", lw=5, label=\"link\")\n",
    "    plt.plot(xs, zs,\"o\", color=\"orange\", ms=10, label=\"joint\")\n",
    "    plt.title(\"x-z\")\n",
    "    plt.xlabel(\"x\")\n",
    "    plt.ylabel(\"z\")\n",
    "    plt.grid()\n",
    "    plt.legend(fontsize=10)\n",
    "    \n",
    "    plt.tight_layout()\n",
    "    plt.show()"
   ]
  },
  {
   "cell_type": "code",
   "execution_count": 121,
   "metadata": {},
   "outputs": [],
   "source": [
    "theta = [np.pi/6, np.pi/6, np.pi/6]\n",
    "tm0_1 = trans_m(0, 0,       0, theta[0])\n",
    "tm1_2 = trans_m(0, np.pi/2, 0, theta[1])\n",
    "tm2_3 = trans_m(1, 0,       0, theta[2])\n",
    "tm3_4 = trans_m(1, 0,       0, 0)"
   ]
  },
  {
   "cell_type": "code",
   "execution_count": 122,
   "metadata": {},
   "outputs": [],
   "source": [
    "pos = [tm0_1[0:3,3:4],\n",
    "       tm0_1.dot(tm1_2)[0:3,3:4],\n",
    "       tm0_1.dot(tm1_2).dot(tm2_3)[0:3,3:4],\n",
    "       tm0_1.dot(tm1_2).dot(tm2_3).dot(tm3_4)[0:3,3:4]]"
   ]
  },
  {
   "cell_type": "code",
   "execution_count": 123,
   "metadata": {},
   "outputs": [
    {
     "data": {
      "image/png": "[encoded data removed]",
      "text/plain": [
       "<Figure size 504x504 with 3 Axes>"
      ]
     },
     "metadata": {
      "needs_background": "light"
     },
     "output_type": "display_data"
    }
   ],
   "source": [
    "draw(pos)"
   ]
  },
  {
   "cell_type": "code",
   "execution_count": null,
   "metadata": {},
   "outputs": [],
   "source": [
    "    xs = [e[0] for e in pos]\n",
    "    ys = [e[1] for e in pos]\n",
    "    zs = [e[2] for e in pos]\n",
    "fig = plt.figure()\n",
    "ax = Axes3D(fig)\n",
    "ax.set_xlim(-30,30)\n",
    "ax.set_ylim(-30,30)\n",
    "ax.set_zlim(-30,30)\n",
    "ax.plot(pos[0:,0], pos[0:,1], pos[0:,2], \"o\", color=\"#00aa00\", ms=4, mew=0.5)\n",
    "ax.set_xlabel('x')\n",
    "ax.set_ylabel('y')\n",
    "ax.set_zlabel('z')\n",
    "\n",
    "plt.show()"
   ]
  }
 ],
 "metadata": {
  "kernelspec": {
   "display_name": "Python 3",
   "language": "python",
   "name": "python3"
  },
  "language_info": {
   "codemirror_mode": {
    "name": "ipython",
    "version": 2
   },
   "file_extension": ".py",
   "mimetype": "text/x-python",
   "name": "python",
   "nbconvert_exporter": "python",
   "pygments_lexer": "ipython2",
   "version": "2.7.16"
  }
 },
 "nbformat": 4,
 "nbformat_minor": 2
}
