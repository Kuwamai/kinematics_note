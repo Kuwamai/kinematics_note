{
 "cells": [
  {
   "cell_type": "markdown",
   "metadata": {},
   "source": [
    "|$^{i-1}T_i$|i|$a_i$|$\\alpha_i$|$d_i$|$\\theta_i$|\n",
    "|---|---|---|---|---|---|\n",
    "|$^{B}T_1$  |1|0    |0         |0    |$\\theta_1$|\n",
    "|$^{1}T_2$  |2|1    |0         |0    |$\\theta_2$|\n",
    "|$^{2}T_E$  |3|1    |0         |0    |0         |\n",
    "\n",
    "\\begin{align*}\n",
    "^{i-1}T_i\n",
    "&=&\n",
    "\\begin{bmatrix}\n",
    "& a_{i-1} \\\\\n",
    "I & 0 \\\\\n",
    "& 0 \\\\\n",
    "O^{T} & 1\n",
    "\\end{bmatrix}\n",
    "\\begin{bmatrix}\n",
    "1 & 0 & 0 & 0 \\\\\n",
    "0 & C_{\\alpha_{i-1}} & -S_{\\alpha_{i-1}} & 0 \\\\\n",
    "0 & S_{\\alpha_{i-1}} & C_{\\alpha_{i-1}} & 0 \\\\\n",
    "0 & 0 & 0 & 1\n",
    "\\end{bmatrix}\n",
    "\\begin{bmatrix}\n",
    "& 0 \\\\\n",
    "I & 0 \\\\\n",
    "& d_i \\\\\n",
    "O^{T} & 1\n",
    "\\end{bmatrix}\n",
    "\\begin{bmatrix}\n",
    "C_{\\theta_i} & -S_{\\theta_i} & 0 & 0 \\\\\n",
    "S_{\\theta_i} & C_{\\theta_i} & 0 & 0 \\\\\n",
    "0 & 0 & 1 & 0 \\\\\n",
    "0 & 0 & 0 & 1\n",
    "\\end{bmatrix} \\\\\n",
    "&=&\n",
    "\\begin{bmatrix}\n",
    "C_{\\theta_i} & -S_{\\theta_i} & 0 & a_{i-1} \\\\\n",
    "C_{\\alpha_{i-1}}S_{\\theta_i} & C_{\\alpha_{i-1}}C_{\\theta_i} & -S_{\\alpha_{i-1}} & -S_{\\alpha_{i-1}}d_i \\\\\n",
    "S_{\\alpha_{i-1}}S_{\\theta_i} & S_{\\alpha_{i-1}}C_{\\theta_i} & C_{\\alpha_{i-1}} & C_{\\alpha_{i-1}}d_i \\\\\n",
    "0 & 0 & 0 & 1\n",
    "\\end{bmatrix}\n",
    "\\end{align*}"
   ]
  },
  {
   "cell_type": "code",
   "execution_count": 1,
   "metadata": {},
   "outputs": [],
   "source": [
    "import numpy as np\n",
    "import matplotlib.pyplot as plt"
   ]
  },
  {
   "cell_type": "code",
   "execution_count": 2,
   "metadata": {},
   "outputs": [],
   "source": [
    "def trans_m(a, alpha, d, theta):\n",
    "    m = np.array([[np.cos(theta), -np.sin(theta), 0, a],\n",
    "                  [np.cos(alpha)*np.sin(theta), np.cos(alpha)*np.cos(theta), -np.sin(alpha), -np.sin(alpha)*d],\n",
    "                  [np.sin(alpha)*np.sin(theta), np.sin(alpha)*np.cos(theta),  np.cos(alpha),  np.cos(alpha)*d],\n",
    "                  [0, 0, 0, 1]])\n",
    "    return m"
   ]
  },
  {
   "cell_type": "code",
   "execution_count": 3,
   "metadata": {},
   "outputs": [],
   "source": [
    "theta = [np.pi/6, np.pi/2]\n",
    "tm0_1 = trans_m(0, 0, 0, theta[0])\n",
    "tm1_2 = trans_m(1, 0, 0, theta[1])\n",
    "tm2_3 = trans_m(1, 0, 0, 0)\n",
    "pos = [tm0_1[0:2,3:4],\n",
    "       tm0_1.dot(tm1_2)[0:2,3:4],\n",
    "       tm0_1.dot(tm1_2).dot(tm2_3)[0:2,3:4]]"
   ]
  },
  {
   "cell_type": "code",
   "execution_count": 4,
   "metadata": {},
   "outputs": [],
   "source": [
    "def draw(pos):\n",
    "    # グラフの設定\n",
    "    fig = plt.figure(figsize=(5,5))\n",
    "    sp = fig.add_subplot(111,aspect='equal')\n",
    "    sp.set_xlim(-2,2)\n",
    "    sp.set_ylim(-2,2)\n",
    "    xs = [e[0] for e in pos]\n",
    "    ys = [e[1] for e in pos]\n",
    "    plt.plot(xs, ys,\"-\", color=\"skyblue\", lw=5, label=\"link\")\n",
    "    plt.plot(xs, ys,\"o\", color=\"orange\", ms=10, label=\"joint\")\n",
    "    plt.grid()\n",
    "    plt.legend(fontsize=20)\n",
    "    plt.show()"
   ]
  },
  {
   "cell_type": "code",
   "execution_count": 5,
   "metadata": {},
   "outputs": [
    {
     "data": {
      "image/png": "[encoded data removed]",
      "text/plain": [
       "<Figure size 360x360 with 1 Axes>"
      ]
     },
     "metadata": {
      "needs_background": "light"
     },
     "output_type": "display_data"
    }
   ],
   "source": [
    "draw(pos)"
   ]
  },
  {
   "cell_type": "code",
   "execution_count": null,
   "metadata": {},
   "outputs": [],
   "source": []
  }
 ],
 "metadata": {
  "kernelspec": {
   "display_name": "Python 3",
   "language": "python",
   "name": "python3"
  },
  "language_info": {
   "codemirror_mode": {
    "name": "ipython",
    "version": 2
   },
   "file_extension": ".py",
   "mimetype": "text/x-python",
   "name": "python",
   "nbconvert_exporter": "python",
   "pygments_lexer": "ipython2",
   "version": "2.7.16"
  }
 },
 "nbformat": 4,
 "nbformat_minor": 2
}
