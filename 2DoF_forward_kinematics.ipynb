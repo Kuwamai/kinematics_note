{
 "cells": [
  {
   "cell_type": "code",
   "execution_count": 1,
   "metadata": {},
   "outputs": [],
   "source": [
    "import numpy as np\n",
    "import matplotlib as plt"
   ]
  },
  {
   "cell_type": "markdown",
   "metadata": {},
   "source": [
    "|$^{i-1}T_i$|i|$a_i$|$\\alpha_i$|$d_i$|$\\theta_i$|\n",
    "|---|---|---|---|---|---|\n",
    "|$^{B}T_1$  |1|0    |0         |0    |$\\theta_1$|\n",
    "|$^{1}T_2$  |2|1    |0         |0    |$\\theta_2$|\n",
    "|$^{2}T_E$  |3|1    |0         |0    |0         |"
   ]
  },
  {
   "cell_type": "code",
   "execution_count": null,
   "metadata": {},
   "outputs": [],
   "source": []
  }
 ],
 "metadata": {
  "kernelspec": {
   "display_name": "Python 2",
   "language": "python",
   "name": "python2"
  },
  "language_info": {
   "codemirror_mode": {
    "name": "ipython",
    "version": 3
   },
   "file_extension": ".py",
   "mimetype": "text/x-python",
   "name": "python",
   "nbconvert_exporter": "python",
   "pygments_lexer": "ipython3",
   "version": "3.7.0"
  }
 },
 "nbformat": 4,
 "nbformat_minor": 2
}
