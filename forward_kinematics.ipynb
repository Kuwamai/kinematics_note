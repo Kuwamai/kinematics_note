{
 "cells": [
  {
   "cell_type": "markdown",
   "metadata": {},
   "source": [
    "|$^{i-1}T_i$|i|$a_i$|$\\alpha_i$|$d_i$|$\\theta_i$|\n",
    "|---|---|---|---|---|---|\n",
    "|$^{B}T_1$  |1|0    |0         |0    |$\\theta_1$|\n",
    "|$^{1}T_2$  |2|0    |$\\pi/2$   |0    |$\\theta_2$|\n",
    "|$^{2}T_3$  |3|80.4 |0         |0    |$\\theta_3$|\n",
    "|$^{3}T_4$  |4|80.4 |0         |0    |$\\theta_4$|\n",
    "|$^{4}T_E$  |5|30.5 |0         |0    |0         |"
   ]
  },
  {
   "cell_type": "markdown",
   "metadata": {},
   "source": [
    "$$\n",
    "\\begin{eqnarray*}\n",
    "^{i-1}T_i&=&\n",
    "\\begin{bmatrix} & a_{i-1} \\\\ I & 0 \\\\ & 0 \\\\ O^{T} & 1 \\end{bmatrix}\n",
    "\\begin{bmatrix} 1 & 0 & 0 & 0 \\\\ 0 & C_{\\alpha_{i-1}} & -S_{\\alpha_{i-1}} & 0 \\\\ 0 & S_{\\alpha_{i-1}} & C_{\\alpha_{i-1}} & 0 \\\\ 0 & 0 & 0 & 1 \\end{bmatrix}\n",
    "\\begin{bmatrix} & 0 \\\\ I & 0 \\\\ & d_i \\\\ O^{T} & 1 \\end{bmatrix}\n",
    "\\begin{bmatrix} C_{\\theta_i} & -S_{\\theta_i} & 0 & 0 \\\\ S_{\\theta_i} & C_{\\theta_i} & 0 & 0 \\\\ 0 & 0 & 1 & 0 \\\\ 0 & 0 & 0 & 1 \\end{bmatrix} \\\\\n",
    "&=&\\begin{bmatrix} C_{\\theta_i} & -S_{\\theta_i} & 0 & a_{i-1} \\\\ C_{\\alpha_{i-1}}S_{\\theta_i} & C_{\\alpha_{i-1}}C_{\\theta_i} & -S_{\\alpha_{i-1}} & -S_{\\alpha_{i-1}}d_i \\\\ S_{\\alpha_{i-1}}S_{\\theta_i} & S_{\\alpha_{i-1}}C_{\\theta_i} & C_{\\alpha_{i-1}} & C_{\\alpha_{i-1}}d_i \\\\ 0 & 0 & 0 & 1 \\end{bmatrix}\n",
    "\\end{eqnarray*}\n",
    "$$\n"
   ]
  },
  {
   "cell_type": "code",
   "execution_count": null,
   "metadata": {},
   "outputs": [],
   "source": []
  }
 ],
 "metadata": {
  "kernelspec": {
   "display_name": "Python 2",
   "language": "python",
   "name": "python2"
  },
  "language_info": {
   "codemirror_mode": {
    "name": "ipython",
    "version": 3
   },
   "file_extension": ".py",
   "mimetype": "text/x-python",
   "name": "python",
   "nbconvert_exporter": "python",
   "pygments_lexer": "ipython3",
   "version": "3.7.0"
  }
 },
 "nbformat": 4,
 "nbformat_minor": 2
}
